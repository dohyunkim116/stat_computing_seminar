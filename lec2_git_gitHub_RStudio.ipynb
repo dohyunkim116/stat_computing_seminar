{
 "cells": [
  {
   "cell_type": "markdown",
   "metadata": {},
   "source": [
    "# Git and GitHub"
   ]
  },
  {
   "cell_type": "markdown",
   "metadata": {},
   "source": [
    "## Git \n",
    "\n",
    "* Type `git` in the command line to verify it is installed\n",
    "    - Go here: https://git-scm.com/book/en/v2/Getting-Started-Installing-Git to see instructions on how to download and install\n",
    "* Git is a distributed a control system where each user has a copy of a repository\n",
    "* Book on git by git: https://git-scm.com/book/en/v2. Videos are also available.\n",
    "\n",
    "### Git is a snapshot\n",
    "* Delta\n",
    "<img src=\"https://git-scm.com/book/en/v2/images/deltas.png\"/>\n",
    "* Snapshot\n",
    "<img src=\"https://git-scm.com/book/en/v2/images/snapshots.png\"/>\n",
    "\n",
    "### The Three States\n",
    "\n",
    "* Files are either: \n",
    "    - Modified: you have made some changes to a file that is in a working directory\n",
    "    - Staged: you have marked a file before it is committed and it is in staging area\n",
    "    - Committed: the change you have made is saved in the Repository\n",
    "<img src=\"https://git-scm.com/book/en/v2/images/areas.png\"/>\n",
    "\n",
    "image sources:https://git-scm.com/book/en/v2/Getting-Started-What-is-Git%3F"
   ]
  },
  {
   "cell_type": "markdown",
   "metadata": {},
   "source": [
    "### Some Essential Shell Commands\n",
    "\n",
    "* You will eventually need to learn how to naviagte through command lines to fully take advantage of git\n",
    "\n",
    "* `pwd`: check your current/working directory\n",
    "* `cd`: change the directory\n",
    "* `cd ~` or `cd [space]`: go to home directory\n",
    "* `cd /`: go to the root directory\n",
    "* `mkdir DIRECTORY_NAME`: make a directory\n",
    "* `rm FILE_NAME`: remove a file\n",
    "* `rmdir DIRECTORY_NAME`: remove a directory if it is empty\n",
    "* `rm -rf DIRECTORY_NAME`: remove everything in a directory\n",
    "* `ls`: list files in your current/working directory\n",
    "* `ls -a`: list all files, including hidden files or folders (`.FILE` or `.FOLDER`)\n",
    "\n",
    "* Learning resources: https://learn.datacamp.com/courses/introduction-to-shell and google for more"
   ]
  },
  {
   "cell_type": "markdown",
   "metadata": {},
   "source": [
    "### Setup Git Environment\n",
    "* Set it now for once and forget it\n",
    "* Set configuration varialbes with `git config --[option]`\n",
    "    - Configuration Variables are in\n",
    "        - Apply to every user: `/etc/gitconfig`; option `--system`\n",
    "        - Apply to current user: `~/.gitconfig` or `/.config/git/config`; option `--global`\n",
    "        - Apply to current repository: `.git/config`; option `--local`\n",
    "* More specifc configuration overides the bigger one. For example, repository configuration overides the global configuration at the user level.\n",
    "* Type `git config --list --show-origin` to check your configurations\n",
    "\n",
    "#### Identity\n",
    "* Set this to characterize your commit with the identity. This will also be used when \"pushing\" the commit to the GitHub. So, make sure that it is identical with your GitHub identity.\n",
    "\n",
    "    > `git config --global user.name \"John Doe\"`\n",
    "    >\n",
    "    > `git config --global user-email \"johndoe@example.com\"`\n",
    "\n",
    "#### Editor\n",
    "* Set your text editor. I recommend `emacs` but you could use any.\n",
    "> `git config --global core.editor emacs`\n",
    "* Check your configuration by typing `git config --list`\n",
    "* Check your value for the key such `user.name` by typing `git config user.name`\n",
    "<!--- Check unexpected config variable with git config --show-origin KEY--->"
   ]
  },
  {
   "cell_type": "markdown",
   "metadata": {},
   "source": [
    "### Help\n",
    "* Call up manpage\n",
    "    * `git help <verb>`\n",
    "    * `git <verb> --help`\n",
    "    * `man git-<verb>`\n",
    "    * For example `git config --help`\n",
    "* shorter manpage help: `git <verb> -h`\n"
   ]
  },
  {
   "cell_type": "markdown",
   "metadata": {},
   "source": [
    "### Git Basics\n",
    "\n",
    "#### Initalize your project\n",
    "\n",
    "1. Create a folder: `mkdir git_exp`. Go to `git_exp`: `cd git_exp`\n",
    "2. Initialize `git_exp`: `git init`. You will see `.git` folder created. Check by typing `ls -a`\n",
    "3. Create a file with `touch file.txt`. Check the status of the current folder: `git status`\n",
    "4. Stage `file.txt`: `git add file.txt`\n",
    "5. Check the status again. You should see `file.txt` under `Changes to be committed:`\n",
    "6. Commit: `git commit file.txt`. You will see the text editor (which you configured in the earlier section such as `emacs`) pop up. Whatever you type is the title of the commit and is called commit message. The commit message should (be):\n",
    "    - Descriptive but concise\n",
    "    - Use active voice and present tense. For exampe, write `Initalize the first version` rather than `Initalized the first version`\n",
    "    - Have no period\n",
    "\n",
    "#### Clone a project from a server like GitHub\n",
    "\n",
    "Suppose you want to clone `stat_computing_seminar` repo from my GitHub Page. Go to https://github.com/dophos/stat_computing_seminar. Click Clone and copy the URL. The copied url is what you are going to use to clone the repo:\n",
    "\n",
    "> `git clone https://github.com/dophos/stat_computing_seminar.git` (this is the url you copied)\n",
    "\n",
    "You will see the folder `stat_computing_seminar`. If you want to clone the repo with different name, say, `my_stat_computing_seminar` type:\n",
    "\n",
    "> `git clone https://github.com/dophos/stat_computing_seminar.git my_stat_computing_seminar`\n",
    "\n",
    "#### Record Changes to the Repo\n",
    "\n",
    "Your file in the working directory is either ***tracked*** or ***untracked***. Every file that was committed previously is being tracked and if you make any edits to it, the git will detect that change. To see this:\n",
    "1. Type `git status` to see the status of `file.txt`. You shouldn't see anyting\n",
    "2. Modify the `file.txt` by typing something in the `file.txt` and save the change\n",
    "3. Type `git status` and see `file.txt` is makred as modified.\n",
    "\n",
    "Any tracked file could be *unmodified*, *modified* or *staged*.\n",
    "Any files that were not in the previous *snapshot* (*commit*) will be indicated as untracked so the change or lack thereof will not be followed by git unless you commit the file.\n",
    "\n",
    "In picture:\n",
    "<img src=\"https://git-scm.com/book/en/v2/images/lifecycle.png\" /> source:https://git-scm.com/book/en/v2/Git-Basics-Recording-Changes-to-the-Repository\n",
    "\n",
    "####  Track new file with `git add`\n",
    "\n",
    "* `git add` has multiple purposes such as:\n",
    "\n",
    "   * track new files\n",
    "   * track modified files\n",
    "   * mark merge-conflicted files as resolved\n",
    "\n",
    "\n",
    "* Let's track new file, `README.md`. Check the status at each step to understand what git is doing:\n",
    "    1. `echo \"Intro to the project, purpose and basic installation guide\" > README.md`\n",
    "    2. `git add README.md`\n",
    "\n",
    "\n",
    "* Modity tracked file, `file.txt` and stage it, and check the status. You will notice that both `README.md` and `file.txt` are up for commit.\n",
    "\n",
    "* ***IMPORTANT***. What happens if you modify staged files? Modify `file.txt` and check the status. You will see `file.txt` is marked both modified and staged. What is going on? If you commit at this point, what will be committed are the files that are staged, not the files that are moidfied most recently. Therefore, if you want to commit most recently modified files, you need to stage them. Check the status after you stage the modified files. Now, you will see modified files are staged and up for commit. Essentially, `git add` is a preview of the snapshot(commit) that will be taken and instructs git by saying \"add precisely this content to the next commit\" rather than \"add this file to the project” [1](https://git-scm.com/book/en/v2/Git-Basics-Recording-Changes-to-the-Repository).\n"
   ]
  },
  {
   "cell_type": "markdown",
   "metadata": {},
   "source": [
    "#### Short Status\n",
    "\n",
    "* `git status --short` or `git status -s`\n",
    "    * `M`(red): modified (being tracked) but not staged\n",
    "    * `M` (green): modified (being tracked) and staged\n",
    "    * `MM`: modified, staged and then modified again\n",
    "    * `??`: ignored because not being tracked\n",
    "    * `A`: new file that is not being tracked is added to the staging area    "
   ]
  },
  {
   "cell_type": "markdown",
   "metadata": {},
   "source": [
    "#### Ignoreing Files\n",
    "\n",
    "* Suppose you want to let git know not to follow certain files. Then, you should specify this in `.gitignore` file. For example, your `.gitignore` might look like this:\n",
    "\n",
    ">```\n",
    ">.[oa]\n",
    ">*~\n",
    ">```\n",
    "\n",
    "This informs git to ignore all files with extension `.o` or `.a` and also temprorary files that ends with `~`.\n",
    "\n",
    "* Rules for the patterns in `.gitignore` [(source)](https://git-scm.com/book/en/v2/Git-Basics-Recording-Changes-to-the-Repository):\n",
    "    * Blank lines or lines starting with # are ignored.\n",
    "    * Standard glob patterns work, and will be applied recursively throughout the entire working tree.\n",
    "    * You can start patterns with a forward slash (/) to avoid recursivity.\n",
    "    * You can end patterns with a forward slash (/) to specify a directory.\n",
    "    * You can negate a pattern by starting it with an exclamation point (!).\n",
    "    \n",
    "* Matching patterns with Glob, a simplified regex. Examples:\n",
    "    * `*`: matches zero or more characters\n",
    "    * `[abc]`: matches any character, `a`,`b` or `c`.\n",
    "    * `?`: matches a single character\n",
    "    * `[0-9]`: matches any character between `0` and `9`, inclusive.\n",
    "* Sample `.gitignore` file [(source)](https://git-scm.com/book/en/v2/Git-Basics-Recording-Changes-to-the-Repository):\n",
    "    ```\n",
    "    # ignore all .a files\n",
    "    *.a\n",
    "\n",
    "    # but do track lib.a, even though you're ignoring .a files above\n",
    "    !lib.a\n",
    "\n",
    "    # only ignore the TODO file in the current directory, not subdir/TODO\n",
    "    /TODO\n",
    "\n",
    "    # ignore all files in any directory named build\n",
    "    build/\n",
    "\n",
    "    # ignore doc/notes.txt, but not doc/server/arch.txt\n",
    "    doc/*.txt\n",
    "\n",
    "    # ignore all .pdf files in the doc/ directory and any of its subdirectories\n",
    "    doc/**/*.pdf\n",
    "    ```\n",
    "* You could have single `.gitignore` in the root directory of your project directory which applies to all the files recursively, or you could have one or more `.gitignore` files in any subdirectories which will take precedence over `.gitignore` in the parent directory.\n",
    "* For more go to [here]( https://github.com/github/gitignore)\n"
   ]
  },
  {
   "cell_type": "markdown",
   "metadata": {},
   "source": [
    "### Preview of `git diff`\n",
    "* If `git status` showed the overview of your working directory, `git diff` will allow you more detailed examination of what has changed.\n",
    "    * `git diff`: between modified file and the file in the staging area\n",
    "    * `git diff --staged` or `git diff --cached`: between the staged file and the last commit\n",
    "* For example suppose you have been tracking `README.md` and `CONTRIBUTING.md`, and you have made changes to the `README.md` file and staged it while you only made edits to `CONTRIBUTING.md` and have not staged it. If you type `git diff`, you will see lines added(`+++`) or deleted(`---`) to/from the file in the staging area compared to modified `CONTRIBUTING.md`. If you type `git diff --staged`, then you will see the changes between the last commit and the staged `README.md` file.\n",
    "* Note that if you have staged all your files and type `git diff`, you will not see any changes since there are no files in the working directory to compare to files in the staging area."
   ]
  },
  {
   "cell_type": "markdown",
   "metadata": {},
   "source": [
    "### Commit your changes"
   ]
  },
  {
   "cell_type": "code",
   "execution_count": null,
   "metadata": {},
   "outputs": [],
   "source": []
  },
  {
   "cell_type": "code",
   "execution_count": null,
   "metadata": {},
   "outputs": [],
   "source": []
  },
  {
   "cell_type": "code",
   "execution_count": null,
   "metadata": {},
   "outputs": [],
   "source": []
  },
  {
   "cell_type": "code",
   "execution_count": null,
   "metadata": {},
   "outputs": [],
   "source": []
  },
  {
   "cell_type": "code",
   "execution_count": null,
   "metadata": {},
   "outputs": [],
   "source": []
  },
  {
   "cell_type": "code",
   "execution_count": null,
   "metadata": {},
   "outputs": [],
   "source": []
  },
  {
   "cell_type": "code",
   "execution_count": null,
   "metadata": {},
   "outputs": [],
   "source": []
  },
  {
   "cell_type": "code",
   "execution_count": null,
   "metadata": {},
   "outputs": [],
   "source": []
  },
  {
   "cell_type": "code",
   "execution_count": null,
   "metadata": {},
   "outputs": [],
   "source": []
  },
  {
   "cell_type": "code",
   "execution_count": null,
   "metadata": {},
   "outputs": [],
   "source": []
  },
  {
   "cell_type": "code",
   "execution_count": null,
   "metadata": {},
   "outputs": [],
   "source": []
  },
  {
   "cell_type": "code",
   "execution_count": null,
   "metadata": {},
   "outputs": [],
   "source": []
  }
 ],
 "metadata": {
  "kernelspec": {
   "display_name": "R",
   "language": "R",
   "name": "ir"
  },
  "language_info": {
   "codemirror_mode": "r",
   "file_extension": ".r",
   "mimetype": "text/x-r-source",
   "name": "R",
   "pygments_lexer": "r",
   "version": "3.6.3"
  }
 },
 "nbformat": 4,
 "nbformat_minor": 4
}
