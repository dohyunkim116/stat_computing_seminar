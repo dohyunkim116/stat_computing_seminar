{
 "cells": [
  {
   "cell_type": "markdown",
   "metadata": {},
   "source": [
    "# Git, GitHub, RStudio"
   ]
  },
  {
   "attachments": {},
   "cell_type": "markdown",
   "metadata": {},
   "source": [
    "## Git \n",
    "\n",
    "* Type `git` in the command line to verify it is installed\n",
    "    - Go here: https://git-scm.com/book/en/v2/Getting-Started-Installing-Git to see instructions on how to download and install\n",
    "* Git is a distributed a control system where each user has a copy of a repository\n",
    "* Book on git by git: https://git-scm.com/book/en/v2. Videos are also available.\n",
    "\n",
    "### Git is a snapshot\n",
    "* Delta\n",
    "<img src=\"https://git-scm.com/book/en/v2/images/deltas.png\"/>\n",
    "* Snapshot\n",
    "<img src=\"https://git-scm.com/book/en/v2/images/snapshots.png\"/>\n",
    "\n",
    "### The Three States\n",
    "\n",
    "* Files are either: \n",
    "    - Modified: you have made some changes to a file that is in a working directory\n",
    "    - Staged: you have marked a file before it is committed and it is in staging area\n",
    "    - Committed: the change you have made is saved in the Repository\n",
    "<img src=\"https://git-scm.com/book/en/v2/images/areas.png\"/>\n",
    "\n",
    "image sources:https://git-scm.com/book/en/v2/Getting-Started-What-is-Git%3F"
   ]
  },
  {
   "cell_type": "markdown",
   "metadata": {},
   "source": [
    "### Some of Essential Shell Commands\n",
    "\n",
    "* You will eventually need to learn how to naviagte through command lines to fully take advantage of git\n",
    "\n",
    "* `pwd`: check your current/working directory\n",
    "* `cd`: change the directory\n",
    "* `cd ~` or `cd [space]`: go to home directory\n",
    "* `cd /`: go to the root directory\n",
    "* `mkdir DIRECTORY_NAME`: make a directory\n",
    "* `rm FILE_NAME`: remove a file\n",
    "* `rmdir DIRECTORY_NAME`: remove a directory if it is empty\n",
    "* `rm -rf DIRECTORY_NAME`: remove everything in a directory\n",
    "* `ls`: list files in your current/working directory\n",
    "\n",
    "* Learning resources: https://learn.datacamp.com/courses/introduction-to-shell and google for more"
   ]
  },
  {
   "cell_type": "markdown",
   "metadata": {},
   "source": [
    "### Setup Git Environment\n",
    "* Set it now for once and forget it\n",
    "* Set configuration varialbes with `git config --[option]`\n",
    "    - Configuration Variables are in\n",
    "        - Apply to every user: `/etc/gitconfig`; option `--system`\n",
    "        - Apply to current user: `~/.gitconfig` or `/.config/git/config`; option `--global`\n",
    "        - Apply to current repository: `.git/config`; option `--local`\n",
    "* More specifc configuration overides the bigger one. For example, repository configuration overides the global configuration at the user level.\n",
    "* Type `git config --list --show-origin` to check your configurations\n",
    "\n",
    "#### Identity\n",
    "* Set this to characterize your commit with the identity. This will also be used when \"pushing\" the commit to the GitHub. So, make sure that it is identical with your GitHub identity.\n",
    "\n",
    "    > `git config --global user.name \"John Doe\"`\n",
    "    >\n",
    "    > `git config --global user-email \"johndoe@example.com\"`\n",
    "\n",
    "#### Editor\n",
    "* Set your text editor. I recommend `emacs` but you could use any.\n",
    "> `git config --global core.editor emacs`\n",
    "* Check your configuration by typing `git config --list`\n",
    "* Check your value for the key such `user.name` by typing `git config user.name`\n",
    "<!--- Check unexpected config variable with git config --show-origin KEY--->"
   ]
  },
  {
   "cell_type": "markdown",
   "metadata": {},
   "source": [
    "### Help\n",
    "* Call up manpage\n",
    "    * `git help <verb>`\n",
    "    * `git <verb> --help`\n",
    "    * `man git-<verb>`\n",
    "    * For example `git config --help`\n",
    "* shorter manpage help: `git <verb> -h`\n"
   ]
  },
  {
   "cell_type": "code",
   "execution_count": null,
   "metadata": {},
   "outputs": [],
   "source": []
  },
  {
   "cell_type": "code",
   "execution_count": null,
   "metadata": {},
   "outputs": [],
   "source": []
  },
  {
   "cell_type": "code",
   "execution_count": null,
   "metadata": {},
   "outputs": [],
   "source": []
  },
  {
   "cell_type": "code",
   "execution_count": null,
   "metadata": {},
   "outputs": [],
   "source": []
  },
  {
   "cell_type": "code",
   "execution_count": null,
   "metadata": {},
   "outputs": [],
   "source": []
  },
  {
   "cell_type": "code",
   "execution_count": null,
   "metadata": {},
   "outputs": [],
   "source": []
  },
  {
   "cell_type": "code",
   "execution_count": null,
   "metadata": {},
   "outputs": [],
   "source": []
  },
  {
   "cell_type": "code",
   "execution_count": null,
   "metadata": {},
   "outputs": [],
   "source": []
  },
  {
   "cell_type": "code",
   "execution_count": null,
   "metadata": {},
   "outputs": [],
   "source": []
  },
  {
   "cell_type": "code",
   "execution_count": null,
   "metadata": {},
   "outputs": [],
   "source": []
  },
  {
   "cell_type": "code",
   "execution_count": null,
   "metadata": {},
   "outputs": [],
   "source": []
  }
 ],
 "metadata": {
  "kernelspec": {
   "display_name": "R",
   "language": "R",
   "name": "ir"
  },
  "language_info": {
   "codemirror_mode": "r",
   "file_extension": ".r",
   "mimetype": "text/x-r-source",
   "name": "R",
   "pygments_lexer": "r",
   "version": "3.6.3"
  }
 },
 "nbformat": 4,
 "nbformat_minor": 4
}
